{
 "cells": [
  {
   "cell_type": "code",
   "execution_count": 1,
   "id": "5a6ea268",
   "metadata": {},
   "outputs": [
    {
     "name": "stdout",
     "output_type": "stream",
     "text": [
      "['https://i.imgur.com/bY0l0PC.jpg', 'https://i.imgur.com/fvJLWdV.jpg', 'https://i.imgur.com/rNOIbNt.jpg']\n"
     ]
    }
   ],
   "source": [
    "from bs4 import BeautifulSoup\n",
    "\n",
    "html_code = \"\"\"<!DOCTYPE html>\n",
    "<html>\n",
    "<head>\n",
    "    <title>Sample Website</title>\n",
    "</head>\n",
    "<body>\n",
    "<h2>HTML 연습!</h2>\n",
    "\n",
    "<p>이것은 첫 번째 문단입니다.</p>\n",
    "<p>이것은 두 번째 문단입니다!</p>\n",
    "\n",
    "<ul>\n",
    "    <li>커피</li>\n",
    "    <li>녹차</li>\n",
    "    <li>우유</li>\n",
    "</ul>\n",
    "\n",
    "<img src='https://i.imgur.com/bY0l0PC.jpg' alt=\"coffee\"/>\n",
    "<img src='https://i.imgur.com/fvJLWdV.jpg' alt=\"green-tea\"/>\n",
    "<img src='https://i.imgur.com/rNOIbNt.jpg' alt=\"milk\"/>\n",
    "\n",
    "</body>\n",
    "</html>\"\"\"\n",
    "\n",
    "# BeautifulSoup 타입으로 변환\n",
    "soup = BeautifulSoup(html_code, 'html.parser')\n",
    "\n",
    "# 모든 <img> 태그 선택\n",
    "img_tags = soup.select('img')\n",
    "\n",
    "# 빈 리스트 생성\n",
    "img_srcs = []\n",
    "\n",
    "# 이미지 주소(=속성의 값)만 추출해서 리스트에 저장\n",
    "for img in img_tags:\n",
    "    img_srcs.append(img[\"src\"])\n",
    "    \n",
    "print(img_srcs)"
   ]
  },
  {
   "cell_type": "code",
   "execution_count": null,
   "id": "a8f28f08",
   "metadata": {},
   "outputs": [],
   "source": []
  }
 ],
 "metadata": {
  "kernelspec": {
   "display_name": "Python 3",
   "language": "python",
   "name": "python3"
  },
  "language_info": {
   "codemirror_mode": {
    "name": "ipython",
    "version": 3
   },
   "file_extension": ".py",
   "mimetype": "text/x-python",
   "name": "python",
   "nbconvert_exporter": "python",
   "pygments_lexer": "ipython3",
   "version": "3.8.8"
  }
 },
 "nbformat": 4,
 "nbformat_minor": 5
}
